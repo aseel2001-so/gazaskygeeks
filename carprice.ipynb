{
  "nbformat": 4,
  "nbformat_minor": 0,
  "metadata": {
    "colab": {
      "provenance": [],
      "authorship_tag": "ABX9TyOILQ+LCawgByb/ldaQwa9M",
      "include_colab_link": true
    },
    "kernelspec": {
      "name": "python3",
      "display_name": "Python 3"
    },
    "language_info": {
      "name": "python"
    }
  },
  "cells": [
    {
      "cell_type": "markdown",
      "metadata": {
        "id": "view-in-github",
        "colab_type": "text"
      },
      "source": [
        "<a href=\"https://colab.research.google.com/github/aseel2001-so/gazaskygeeks/blob/main/carprice.ipynb\" target=\"_parent\"><img src=\"https://colab.research.google.com/assets/colab-badge.svg\" alt=\"Open In Colab\"/></a>"
      ]
    },
    {
      "cell_type": "code",
      "execution_count": 19,
      "metadata": {
        "colab": {
          "base_uri": "https://localhost:8080/"
        },
        "id": "MytHkkQ_k2s_",
        "outputId": "3abda59a-a108-4ad6-8779-e547512be323"
      },
      "outputs": [
        {
          "output_type": "stream",
          "name": "stdout",
          "text": [
            "0      alfa-romero\n",
            "1      alfa-romero\n",
            "2      alfa-romero\n",
            "3             audi\n",
            "4             audi\n",
            "          ...     \n",
            "200          volvo\n",
            "201          volvo\n",
            "202          volvo\n",
            "203          volvo\n",
            "204          volvo\n",
            "Name: CarName, Length: 205, dtype: object\n"
          ]
        }
      ],
      "source": [
        "import warnings\n",
        "warnings.filterwarnings('ignore')\n",
        "\n",
        "# Importing the libraries\n",
        "import pandas as pd\n",
        "import numpy as np\n",
        "import matplotlib.pyplot as plt\n",
        "import seaborn as sns\n",
        "\n",
        "# Reading the data\n",
        "cars = pd.read_csv('/CarPrice_Assignment.csv')\n",
        "cars.head(20)\n",
        "cars.tail(10)\n",
        "#cars.describe()\n",
        "\n",
        "#Splitting company name from CarName column\n",
        "CompanyName = cars['CarName'].apply(lambda x : x.split(' ')[0])\n",
        "#cars.insert(3,\"CompanyName\",CompanyName)\n",
        "#cars.drop(['CarName'],axis=1,inplace=True)\n",
        "#cars.head()\n",
        "print(CompanyName)\n"
      ]
    }
  ]
}